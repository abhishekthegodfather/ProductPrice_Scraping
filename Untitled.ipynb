{
 "cells": [
  {
   "cell_type": "code",
   "execution_count": 248,
   "id": "78e269c2",
   "metadata": {},
   "outputs": [],
   "source": [
    "from selenium import webdriver\n",
    "from selenium.webdriver.common.keys import Keys\n",
    "from selenium.webdriver.common.by import By\n",
    "import time \n",
    "import pandas as pd"
   ]
  },
  {
   "cell_type": "code",
   "execution_count": 227,
   "id": "65ad59fd",
   "metadata": {},
   "outputs": [
    {
     "name": "stderr",
     "output_type": "stream",
     "text": [
      "C:\\Users\\abhis\\AppData\\Local\\Temp/ipykernel_1544/3400780090.py:1: DeprecationWarning: executable_path has been deprecated, please pass in a Service object\n",
      "  driver = webdriver.Firefox(executable_path=r'C:\\Users\\abhis\\OneDrive\\Desktop\\scrapping_python\\linkedin_scarp\\geckodriver.exe')\n"
     ]
    }
   ],
   "source": [
    "driver = webdriver.Firefox(executable_path=r'C:\\Users\\abhis\\OneDrive\\Desktop\\scrapping_python\\linkedin_scarp\\geckodriver.exe')\n",
    "# driver.get('https://www.amazon.in/')"
   ]
  },
  {
   "cell_type": "code",
   "execution_count": 129,
   "id": "6142496d",
   "metadata": {},
   "outputs": [],
   "source": [
    "searchBox = driver.find_element(By.ID, \"twotabsearchtextbox\")\n",
    "searchBox.send_keys(\"iphone se\");\n",
    "searchBtn = driver.find_element(By.ID, \"nav-search-submit-button\")\n",
    "searchBtn.click()"
   ]
  },
  {
   "cell_type": "code",
   "execution_count": 130,
   "id": "8baa94ed",
   "metadata": {},
   "outputs": [
    {
     "name": "stdout",
     "output_type": "stream",
     "text": [
      "['Apple iPhone SE (128 GB) - Starlight (3rd Generation)', 'Apple iPhone 13 Mini (128GB) - Pink', 'Apple iPhone SE (128 GB) - Midnight (3rd Generation)', 'Apple iPhone SE (64 GB) - Midnight (3rd Generation)', 'Apple iPhone SE (64 GB) - (Product) RED (3rd Generation)', 'Apple iPhone SE (128 GB) - Starlight (3rd Generation)', 'Apple iPhone SE (128 GB) - (Product) RED (3rd Generation)', 'SOFTER Flexible or Unbreakable Gamming Matte Finish Mobile Screen Protector or Screen Guard for Apple iPhone SE with Full-Screen Coverage (Except Edges) with Alignment Installation Kit', 'VONZEE Back Cover for iPhone SE 2020/ iPhone SE 2022 (4.7 inch) (Silicone | Matcha Green)', 'VONZEE Back Cover for iPhone SE 2020/ iPhone SE 2022(4.7 inch) (Silicone | Wine Red)', 'VONZEE Back Cover for iPhone SE 2020/ iPhone SE 2022(4.7 inch) (Silicone | Black)', 'Jkobi Velvet Feel Hard Back and Side Soft Smoke Back Cover Case for Apple iPhone SE 2020 (iPhone SE 2) | SE 2022 -Blue', 'Egotude Soft Silicone Thin Matte Back Cover Case for iPhone SE (2020) (Black)', 'Red Ninja 2 Printed Back Cover Phone Case for Apple iPhone SE 2020 Back Cover Printed', 'Jeep in Jungle Printed Back Cover Phone Case for Apple iPhone SE 2020 Back Cover Printed', 'VONZEE ® Back Cover for iPhone SE 2020, Liquid Silicone Mobile Phone Cover Wireless Charging Support Candy Purple', 'Vonzee® Back Covers for iPhone SE 2020/ iPhone SE 2022 (4.7 inch), Liquid Silicone Phone Cover Wireless Charging Support Candy Case for iPhone SE 2020 Cases (Red)', 'Pikkme iPhone 5 / 5s / Se Flip Case Leather Finish | Inside TPU with Card Pockets | Wallet Stand and Shock Proof | Magnetic Closing | Complete Protection Flip Cover for iPhone 5 / 5s / Se (Brown)']\n"
     ]
    }
   ],
   "source": [
    "phone_names = driver.find_elements(By.CSS_SELECTOR, \"h2>a>Span\")\n",
    "namePhone = []\n",
    "for i in phone_names:\n",
    "    i = i.get_attribute(\"innerHTML\")\n",
    "    namePhone.append(i)\n",
    "\n",
    "print(namePhone)"
   ]
  },
  {
   "cell_type": "code",
   "execution_count": 77,
   "id": "4b58eba6",
   "metadata": {},
   "outputs": [
    {
     "name": "stdout",
     "output_type": "stream",
     "text": [
      "['4.1 out of 5 stars', '4.6 out of 5 stars', '4.1 out of 5 stars', '4.1 out of 5 stars', '4.1 out of 5 stars', '4.1 out of 5 stars', '4.1 out of 5 stars', '4.1 out of 5 stars', '3.7 out of 5 stars', '3.7 out of 5 stars', '3.7 out of 5 stars', '4.2 out of 5 stars', '4.4 out of 5 stars', '3.9 out of 5 stars', '4.3 out of 5 stars', '4.2 out of 5 stars', '4.2 out of 5 stars', '4.6 out of 5 stars', '4.2 out of 5 stars']\n"
     ]
    }
   ],
   "source": [
    "rating = driver.find_elements(By.CSS_SELECTOR, \"a>i>Span\")\n",
    "rating_arr = []\n",
    "for i in rating:\n",
    "    i = i.get_attribute(\"innerHTML\")\n",
    "    rating_arr.append(i)\n",
    "\n",
    "print(rating_arr)"
   ]
  },
  {
   "cell_type": "code",
   "execution_count": 78,
   "id": "20f9691e",
   "metadata": {},
   "outputs": [
    {
     "name": "stdout",
     "output_type": "stream",
     "text": [
      "['45,490', '49,900', '48,900', '41,900', '41,900', '41,900', '45,490', '46,900', '299', '299', '299', '399', '1,079', '189', '299', '299', '899', '809', '399']\n"
     ]
    }
   ],
   "source": [
    "prices = driver.find_elements(By.CSS_SELECTOR, \"span>span.a-price-whole\")\n",
    "price_arr = []\n",
    "for i in prices:\n",
    "    i = i.get_attribute(\"innerHTML\")\n",
    "    price_arr.append(i)\n",
    "\n",
    "print(price_arr)"
   ]
  },
  {
   "cell_type": "code",
   "execution_count": 79,
   "id": "bb52b77b",
   "metadata": {},
   "outputs": [
    {
     "name": "stdout",
     "output_type": "stream",
     "text": [
      "['Today, July 18', 'Today, July 18', 'Today, July 18', 'Today, July 18', 'Today, July 18', 'Today, July 18', 'Today, July 18', 'Today, July 18', 'Today, July 18', 'Sunday, July 31', 'Today, July 18', 'Today, July 18', 'Today, July 18', 'Today, July 18', 'tomorrow, July 19']\n"
     ]
    }
   ],
   "source": [
    "dilevary = driver.find_elements(By.CSS_SELECTOR, \"span>span.a-color-base.a-text-bold\")\n",
    "dil_date = []\n",
    "for i in dilevary:\n",
    "    i = i.get_attribute(\"innerHTML\")\n",
    "    dil_date.append(i)\n",
    "\n",
    "print(dil_date)"
   ]
  },
  {
   "cell_type": "code",
   "execution_count": 137,
   "id": "ff158f4f",
   "metadata": {},
   "outputs": [
    {
     "name": "stdout",
     "output_type": "stream",
     "text": [
      "['Flat INR 1000 Off on HDFC BankCar...', 'No Cost EMI available on select cards.', 'Flat INR 1000 Off on HDFC BankCar...', 'Flat INR 1000 Off on HDFC BankCar...', 'Flat INR 1000 Off on HDFC BankCar...', 'Flat INR 1000 Off on HDFC BankC...', 'Flat INR 1000 Off on HDFC BankCar...', 'Flat INR 1000 Off on HDFC BankCar...']\n"
     ]
    }
   ],
   "source": [
    "offers = driver.find_elements(By.CSS_SELECTOR, \"span>span>span>span.a-truncate-cut\")\n",
    "off_arr = []\n",
    "for i in offers:\n",
    "    i = i.get_attribute(\"innerHTML\")\n",
    "    off_arr.append(i)\n",
    "\n",
    "print(off_arr)"
   ]
  },
  {
   "cell_type": "code",
   "execution_count": 142,
   "id": "647a3f2a",
   "metadata": {},
   "outputs": [
    {
     "name": "stdout",
     "output_type": "stream",
     "text": [
      "['₹48,900', '₹69,900', '₹43,900', '₹43,900', '₹43,900', '₹48,900', '₹48,900', '₹899', '₹899', '₹899', '₹899', '₹799', '₹799', '₹499', '₹499', '₹899', '₹899', '₹299']\n"
     ]
    }
   ],
   "source": [
    "original_pricce = driver.find_elements(By.CSS_SELECTOR, \"span.a-price.a-text-price>span.a-offscreen\")\n",
    "original_arr = []\n",
    "for i in original_pricce:\n",
    "    i = i.get_attribute(\"innerHTML\")\n",
    "    original_arr.append(i)\n",
    "\n",
    "print(original_arr)"
   ]
  },
  {
   "cell_type": "code",
   "execution_count": null,
   "id": "0e241da3",
   "metadata": {},
   "outputs": [],
   "source": [
    "data = pd.DataFrame({\"Product Name\":pd.Series(namePhone),\n",
    "                        \"Product Rating\": pd.Series(rating_arr),\n",
    "                        \"Product Price (discounted)\":pd.Series(price_arr),\n",
    "                        \"product Price (Original)\":pd.Series(original_arr),\n",
    "                        \"Dilivary Date\": pd.Series(dil_date),\n",
    "                        \"Offers\": pd.Series(off_arr)\n",
    "                        })\n"
   ]
  },
  {
   "cell_type": "code",
   "execution_count": null,
   "id": "6767f686",
   "metadata": {},
   "outputs": [],
   "source": [
    "data.to_csv(\"Amazon_Product_Scrap.csv\")"
   ]
  },
  {
   "cell_type": "code",
   "execution_count": null,
   "id": "12508038",
   "metadata": {},
   "outputs": [],
   "source": [
    "driver.close()"
   ]
  },
  {
   "cell_type": "markdown",
   "id": "cd582669",
   "metadata": {},
   "source": [
    "# FlipKart Product Scrapping"
   ]
  },
  {
   "cell_type": "code",
   "execution_count": 267,
   "id": "7068f3b6",
   "metadata": {},
   "outputs": [
    {
     "name": "stderr",
     "output_type": "stream",
     "text": [
      "C:\\Users\\abhis\\AppData\\Local\\Temp/ipykernel_1544/2443995114.py:1: DeprecationWarning: executable_path has been deprecated, please pass in a Service object\n",
      "  driver = webdriver.Firefox(executable_path=r'C:\\Users\\abhis\\OneDrive\\Desktop\\scrapping_python\\linkedin_scarp\\geckodriver.exe')\n"
     ]
    }
   ],
   "source": [
    "driver = webdriver.Firefox(executable_path=r'C:\\Users\\abhis\\OneDrive\\Desktop\\scrapping_python\\linkedin_scarp\\geckodriver.exe')\n",
    "driver.get('https://www.flipkart.com/')"
   ]
  },
  {
   "cell_type": "code",
   "execution_count": 268,
   "id": "0c475388",
   "metadata": {},
   "outputs": [],
   "source": [
    "cross = driver.find_element(By.CSS_SELECTOR, \"div>div>div>button\")\n",
    "cross.click()"
   ]
  },
  {
   "cell_type": "code",
   "execution_count": 269,
   "id": "9dbb2f0a",
   "metadata": {},
   "outputs": [],
   "source": [
    "cross = driver.find_element(By.CSS_SELECTOR, \"div>div>input\")\n",
    "cross.send_keys(\"iphone se\")"
   ]
  },
  {
   "cell_type": "code",
   "execution_count": 270,
   "id": "e9af5c82",
   "metadata": {},
   "outputs": [],
   "source": [
    "btn = driver.find_element(By.CLASS_NAME, \"L0Z3Pu\")\n",
    "btn.click()"
   ]
  },
  {
   "cell_type": "code",
   "execution_count": 271,
   "id": "c1dca065",
   "metadata": {},
   "outputs": [
    {
     "name": "stdout",
     "output_type": "stream",
     "text": [
      "['APPLE iPhone SE (Black, 64 GB)', 'APPLE iPhone SE (Black, 256 GB)', 'APPLE iPhone SE (Red, 256 GB)', 'APPLE iPhone SE (White, 256 GB)', 'APPLE iPhone SE (Black, 128 GB)', 'APPLE iPhone SE (Red, 64 GB)', 'APPLE iPhone SE (Red, 128 GB)', 'APPLE iPhone SE (White, 128 GB)', 'APPLE iPhone SE (White, 64 GB)', 'Apple iPhone SE (Red, 64 GB) (Includes EarPods, Power Adapter)', 'Apple iPhone SE (Black, 64 GB) (Includes EarPods, Power Adapter)', 'Apple iPhone SE (Black, 256 GB) (Includes EarPods, Power Adapter)', 'Apple iPhone SE (Red, 128 GB) (Includes EarPods, Power Adapter)', 'Apple iPhone SE (Red, 256 GB) (Includes EarPods, Power Adapter)', 'Apple iPhone SE (White, 64 GB) (Includes EarPods, Power Adapter)', 'Apple iPhone SE (Black, 128 GB) (Includes EarPods, Power Adapter)', 'Apple iPhone SE (White, 256 GB) (Includes EarPods, Power Adapter)', 'Apple iPhone SE (White, 128 GB) (Includes EarPods, Power Adapter)', 'APPLE iPhone SE (3rd Gen) (Midnight, 64 GB)', 'APPLE iPhone SE (3rd Gen) (Starlight, 64 GB)', 'APPLE iPhone SE (3rd Gen) (Product (Red), 64 GB)', 'APPLE iPhone SE (3rd Gen) (Product (Red), 128 GB)', 'APPLE iPhone SE (3rd Gen) (Midnight, 128 GB)', 'APPLE iPhone SE (3rd Gen) (Starlight, 128 GB)']\n"
     ]
    }
   ],
   "source": [
    "time.sleep(10)\n",
    "name = []\n",
    "nameProduct = driver.find_elements(By.CLASS_NAME, \"_4rR01T\")\n",
    "for i in nameProduct:\n",
    "    i = i.get_attribute(\"innerHTML\")\n",
    "    name.append(i)\n",
    "print(name)"
   ]
  },
  {
   "cell_type": "code",
   "execution_count": 272,
   "id": "84938f5b",
   "metadata": {},
   "outputs": [
    {
     "name": "stdout",
     "output_type": "stream",
     "text": [
      "['₹29,999', '₹44,999', '₹44,999', '₹44,999', '₹34,999', '₹29,999', '₹34,999', '₹34,999', '₹29,999', '₹29,999', '₹29,999', '₹44,999', '₹34,999', '₹44,999', '₹29,999', '₹34,999', '₹44,999', '₹34,999', '₹41,900', '₹41,900', '₹41,900', '₹46,900', '₹46,900', '₹46,900']\n"
     ]
    }
   ],
   "source": [
    "time.sleep(10)\n",
    "\n",
    "discount = driver.find_elements(By.CSS_SELECTOR, \"div._25b18c>div._30jeq3._1_WHN1\")\n",
    "dis_arr = []    \n",
    "for i in discount:\n",
    "    i = i.get_attribute(\"innerHTML\")\n",
    "    dis_arr.append(i)\n",
    "print(dis_arr)"
   ]
  },
  {
   "cell_type": "code",
   "execution_count": 273,
   "id": "5ee11e26",
   "metadata": {},
   "outputs": [
    {
     "name": "stdout",
     "output_type": "stream",
     "text": [
      "['₹39,900', '₹54,900', '₹54,900', '₹54,900', '₹44,900', '₹39,900', '₹44,900', '₹44,900', '₹39,900', '₹39,900', '₹39,900', '₹54,900', '₹44,900', '₹54,900', '₹39,900', '₹44,900', '₹54,900', '₹44,900', '₹43,900', '₹43,900', '₹43,900', '₹48,900', '₹48,900', '₹48,900']\n"
     ]
    }
   ],
   "source": [
    "time.sleep(10)\n",
    "original = driver.find_elements(By.CSS_SELECTOR, \"div._3I9_wc._27UcVY\")\n",
    "ori_arr = []    \n",
    "for i in original:\n",
    "    i = i.get_attribute(\"innerHTML\")\n",
    "    ori_arr.append(i)\n",
    "print(ori_arr)"
   ]
  },
  {
   "cell_type": "code",
   "execution_count": 274,
   "id": "bff74153",
   "metadata": {},
   "outputs": [
    {
     "name": "stdout",
     "output_type": "stream",
     "text": [
      "['4.5', '4.5', '4.5', '4.5', '4.5', '4.5', '4.5', '4.5', '4.5', '4.5', '4.5', '4.5', '4.5', '4.5', '4.5', '4.5', '4.5', '4.5', '4.3', '4.3', '4.3', '4.3', '4.3', '4.3']\n"
     ]
    }
   ],
   "source": [
    "time.sleep(10)\n",
    "rating = driver.find_elements(By.CSS_SELECTOR, \"div._3LWZlK\")\n",
    "rating_arr = []    \n",
    "for i in rating:\n",
    "    i = i.text\n",
    "    rating_arr.append(i)\n",
    "print(rating_arr)"
   ]
  },
  {
   "cell_type": "code",
   "execution_count": 275,
   "id": "ec2572cf",
   "metadata": {},
   "outputs": [],
   "source": [
    "data = pd.DataFrame({\"Product Name\":name,\n",
    "                        \"Product Rating\": rating_arr,\n",
    "                        \"Product Price (discounted)\":dis_arr,\n",
    "                        \"product Price (Original)\":ori_arr,\n",
    "                        })"
   ]
  },
  {
   "cell_type": "code",
   "execution_count": 276,
   "id": "c091d433",
   "metadata": {},
   "outputs": [],
   "source": [
    "data.to_csv(\"FlipKart_Product_Scrap.csv\")"
   ]
  },
  {
   "cell_type": "code",
   "execution_count": 277,
   "id": "1cb60e92",
   "metadata": {},
   "outputs": [],
   "source": [
    "driver.close()"
   ]
  },
  {
   "cell_type": "markdown",
   "id": "a87d5b99",
   "metadata": {},
   "source": [
    "# Chroma Product Scrapping"
   ]
  },
  {
   "cell_type": "code",
   "execution_count": 278,
   "id": "9a3868b2",
   "metadata": {},
   "outputs": [
    {
     "name": "stderr",
     "output_type": "stream",
     "text": [
      "C:\\Users\\abhis\\AppData\\Local\\Temp/ipykernel_1544/1978751551.py:1: DeprecationWarning: executable_path has been deprecated, please pass in a Service object\n",
      "  driver = webdriver.Firefox(executable_path=r'C:\\Users\\abhis\\OneDrive\\Desktop\\scrapping_python\\linkedin_scarp\\geckodriver.exe')\n"
     ]
    }
   ],
   "source": [
    "driver = webdriver.Firefox(executable_path=r'C:\\Users\\abhis\\OneDrive\\Desktop\\scrapping_python\\linkedin_scarp\\geckodriver.exe')\n",
    "driver.get('https://www.croma.com/')"
   ]
  },
  {
   "cell_type": "code",
   "execution_count": 279,
   "id": "1bde1920",
   "metadata": {},
   "outputs": [],
   "source": [
    "input_fld = driver.find_element(By.ID, \"search\")\n",
    "input_fld.send_keys(\"iphone se\")"
   ]
  },
  {
   "cell_type": "code",
   "execution_count": 280,
   "id": "3948b2e0",
   "metadata": {},
   "outputs": [],
   "source": [
    "clk = driver.find_element(By.CSS_SELECTOR, \"span.icon\")\n",
    "input_fld.send_keys(Keys.RETURN)"
   ]
  },
  {
   "cell_type": "code",
   "execution_count": 297,
   "id": "c9468992",
   "metadata": {},
   "outputs": [
    {
     "name": "stdout",
     "output_type": "stream",
     "text": [
      "['Apple iPhone SE (256GB ROM, MMXM3HN/A, Midnight)', 'Apple iPhone SE (64GB ROM, MMXG3HN/A, Starlight)', 'Apple iPhone SE (64GB ROM, MMXF3HN/A, Midnight)', 'Apple iPhone SE (128GB ROM, MMXJ3HN/A, Midnight)', 'Apple iPhone SE (128GB ROM, MMXK3HN/A, Starlight)', 'Apple iPhone SE (256GB ROM, MMXN3HN/A, Starlight)', 'Apple iPhone SE (256GB ROM, MMXP3HN/A, (Product)Red)', 'Apple iPhone SE (128GB ROM, MMXL3HN/A, (Product)Red)', 'Apple iPhone SE (64GB ROM, MMXH3HN/A, (Product)Red)', 'Apple iPhone SE (128GB ROM, 3GB RAM, MHGU3HN/A, White)', 'Apple iPhone SE (64GB ROM, 3GB RAM, MHGQ3HN/A, White)', 'Apple iPhone SE (128GB ROM, 3GB RAM, MHGV3HN/A, (Product)Red)']\n"
     ]
    }
   ],
   "source": [
    "nameProduct = driver.find_elements(By.CSS_SELECTOR, \".product-title.plp-prod-title>a\")\n",
    "name = []\n",
    "for i in nameProduct:\n",
    "    i = i.text\n",
    "    name.append(i)\n",
    "print(name)"
   ]
  },
  {
   "cell_type": "code",
   "execution_count": 287,
   "id": "70861d4a",
   "metadata": {},
   "outputs": [
    {
     "name": "stdout",
     "output_type": "stream",
     "text": [
      "['₹55,490.00', '₹40,490.00', '₹40,490.00', '₹45,490.00', '₹45,490.00', '₹55,490.00', '₹55,490.00', '₹45,490.00', '₹40,490.00', '₹40,990.00', '₹35,990.00', '₹44,900.00']\n"
     ]
    }
   ],
   "source": [
    "discount = driver.find_elements(By.CSS_SELECTOR, \"span.new-price>span.amount\")\n",
    "dis_arr = []\n",
    "for i in discount:\n",
    "    i = i.text\n",
    "    dis_arr.append(i)\n",
    "print(dis_arr)"
   ]
  },
  {
   "cell_type": "code",
   "execution_count": 288,
   "id": "efcca562",
   "metadata": {},
   "outputs": [
    {
     "name": "stdout",
     "output_type": "stream",
     "text": [
      "['₹58,900.00', '₹43,900.00', '₹43,900.00', '₹48,900.00', '₹48,900.00', '₹58,900.00', '₹58,900.00', '₹48,900.00', '₹43,900.00', '₹44,900.00', '₹39,900.00']\n"
     ]
    }
   ],
   "source": [
    "oldPrices = discount = driver.find_elements(By.CSS_SELECTOR, \"span.old-price>span.amount\")\n",
    "old_arr = []\n",
    "for i in oldPrices:\n",
    "    i = i.text\n",
    "    old_arr.append(i)\n",
    "print(old_arr)"
   ]
  },
  {
   "cell_type": "code",
   "execution_count": 302,
   "id": "b3866876",
   "metadata": {},
   "outputs": [
    {
     "name": "stdout",
     "output_type": "stream",
     "text": [
      "['6% Off', '8% Off', '8% Off', '7% Off', '7% Off', '6% Off', '6% Off', '7% Off', '8% Off', '9% Off', '10% Off']\n"
     ]
    }
   ],
   "source": [
    "dilivary = discount = driver.find_elements(By.CLASS_NAME, \"discount\")\n",
    "dis_arr = []\n",
    "for i in dilivary:\n",
    "    i = i.text\n",
    "    dil_arr.append(i)\n",
    "print(dil_arr)"
   ]
  },
  {
   "cell_type": "code",
   "execution_count": 290,
   "id": "0574a5ec",
   "metadata": {},
   "outputs": [
    {
     "name": "stdout",
     "output_type": "stream",
     "text": [
      "['(0 Reviews)', '(1 Reviews)', '(0 Reviews)', '(1 Reviews)', '(0 Reviews)', '(0 Reviews)', '(0 Reviews)', '(0 Reviews)', '(0 Reviews)', '(161 Reviews)', '(162 Reviews)', '(156 Reviews)']\n"
     ]
    }
   ],
   "source": [
    "review = discount = driver.find_elements(By.CSS_SELECTOR, \"div.cp-rating>span.text\")\n",
    "review_arr = []\n",
    "for i in review:\n",
    "    i = i.text\n",
    "    i = i.replace('\\n', ' ')\n",
    "    review_arr.append(i)\n",
    "print(review_arr)"
   ]
  },
  {
   "cell_type": "code",
   "execution_count": null,
   "id": "4f899d95",
   "metadata": {},
   "outputs": [],
   "source": [
    "data = pd.DataFrame({\"Product Name\":name),\n",
    "                        \"Product Review\": review_arr),\n",
    "                        \"Product Price (discounted)\":dis_arr),\n",
    "                        \"product Price (Original)\": old_arr),\n",
    "                        \"Dilivary Date\": dil_arr)\n",
    "                        })"
   ]
  },
  {
   "cell_type": "code",
   "execution_count": null,
   "id": "ebd148a8",
   "metadata": {},
   "outputs": [],
   "source": [
    "data.to_csv(\"Chroma_Product_Scrap.csv\")"
   ]
  },
  {
   "cell_type": "code",
   "execution_count": 205,
   "id": "bf7c16c8",
   "metadata": {},
   "outputs": [],
   "source": [
    "driver.close()"
   ]
  },
  {
   "cell_type": "code",
   "execution_count": 237,
   "id": "ede23af7",
   "metadata": {},
   "outputs": [],
   "source": []
  },
  {
   "cell_type": "code",
   "execution_count": null,
   "id": "8a123a05",
   "metadata": {},
   "outputs": [],
   "source": []
  }
 ],
 "metadata": {
  "kernelspec": {
   "display_name": "Python 3 (ipykernel)",
   "language": "python",
   "name": "python3"
  },
  "language_info": {
   "codemirror_mode": {
    "name": "ipython",
    "version": 3
   },
   "file_extension": ".py",
   "mimetype": "text/x-python",
   "name": "python",
   "nbconvert_exporter": "python",
   "pygments_lexer": "ipython3",
   "version": "3.9.7"
  }
 },
 "nbformat": 4,
 "nbformat_minor": 5
}
